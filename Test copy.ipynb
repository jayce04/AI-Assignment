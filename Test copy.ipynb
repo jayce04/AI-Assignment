{
 "cells": [
  {
   "cell_type": "markdown",
   "id": "28d6c79b",
   "metadata": {},
   "source": [
    "## Download Dataset from Kaggle"
   ]
  },
  {
   "cell_type": "code",
   "execution_count": 10,
   "id": "2d3d7077",
   "metadata": {},
   "outputs": [],
   "source": [
    "import os\n",
    "import zipfile\n",
    "\n",
    "# Download using Kaggle API\n",
    "os.system('kaggle datasets download -d nadyinky/sephora-products-and-skincare-reviews')\n",
    "\n",
    "# Unzip the downloaded dataset\n",
    "with zipfile.ZipFile('sephora-products-and-skincare-reviews.zip', 'r') as zip_ref:\n",
    "    zip_ref.extractall('sephora_dataset')"
   ]
  },
  {
   "cell_type": "code",
   "execution_count": 11,
   "id": "9583c684",
   "metadata": {},
   "outputs": [
    {
     "name": "stdout",
     "output_type": "stream",
     "text": [
      "  product_id               product_name  brand_id brand_name  loves_count  \\\n",
      "0    P473671    Fragrance Discovery Set      6342      19-69         6320   \n",
      "1    P473668    La Habana Eau de Parfum      6342      19-69         3827   \n",
      "2    P473662  Rainbow Bar Eau de Parfum      6342      19-69         3253   \n",
      "3    P473660       Kasbah Eau de Parfum      6342      19-69         3018   \n",
      "4    P473658  Purple Haze Eau de Parfum      6342      19-69         2691   \n",
      "\n",
      "   rating  reviews            size                      variation_type  \\\n",
      "0  3.6364     11.0             NaN                                 NaN   \n",
      "1  4.1538     13.0  3.4 oz/ 100 mL  Size + Concentration + Formulation   \n",
      "2  4.2500     16.0  3.4 oz/ 100 mL  Size + Concentration + Formulation   \n",
      "3  4.4762     21.0  3.4 oz/ 100 mL  Size + Concentration + Formulation   \n",
      "4  3.2308     13.0  3.4 oz/ 100 mL  Size + Concentration + Formulation   \n",
      "\n",
      "  variation_value  ... online_only out_of_stock  sephora_exclusive  \\\n",
      "0             NaN  ...           1            0                  0   \n",
      "1  3.4 oz/ 100 mL  ...           1            0                  0   \n",
      "2  3.4 oz/ 100 mL  ...           1            0                  0   \n",
      "3  3.4 oz/ 100 mL  ...           1            0                  0   \n",
      "4  3.4 oz/ 100 mL  ...           1            0                  0   \n",
      "\n",
      "                                          highlights  primary_category  \\\n",
      "0  ['Unisex/ Genderless Scent', 'Warm &Spicy Scen...         Fragrance   \n",
      "1  ['Unisex/ Genderless Scent', 'Layerable Scent'...         Fragrance   \n",
      "2  ['Unisex/ Genderless Scent', 'Layerable Scent'...         Fragrance   \n",
      "3  ['Unisex/ Genderless Scent', 'Layerable Scent'...         Fragrance   \n",
      "4  ['Unisex/ Genderless Scent', 'Layerable Scent'...         Fragrance   \n",
      "\n",
      "   secondary_category  tertiary_category  child_count  child_max_price  \\\n",
      "0   Value & Gift Sets  Perfume Gift Sets            0              NaN   \n",
      "1               Women            Perfume            2             85.0   \n",
      "2               Women            Perfume            2             75.0   \n",
      "3               Women            Perfume            2             75.0   \n",
      "4               Women            Perfume            2             75.0   \n",
      "\n",
      "   child_min_price  \n",
      "0              NaN  \n",
      "1             30.0  \n",
      "2             30.0  \n",
      "3             30.0  \n",
      "4             30.0  \n",
      "\n",
      "[5 rows x 27 columns]\n"
     ]
    }
   ],
   "source": [
    "import pandas as pd\n",
    "\n",
    "# Load a CSV \n",
    "products_df = pd.read_csv(\"sephora_dataset/product_info.csv\")\n",
    "print(products_df.head())\n"
   ]
  },
  {
   "cell_type": "markdown",
   "id": "8b017c5b",
   "metadata": {},
   "source": [
    "## Data Preprocessing\n",
    "### 1. Filter Skincare Product only in primary_category, secondary_category, and tertiary_category columns\n",
    "(remove makeup, fragrance, bath&body, hair, teeth, supplement, etc products)"
   ]
  },
  {
   "cell_type": "code",
   "execution_count": 12,
   "id": "60ae81f3",
   "metadata": {},
   "outputs": [
    {
     "name": "stdout",
     "output_type": "stream",
     "text": [
      "Filtered dataset saved as 'filtered_skincare_products.csv'\n"
     ]
    }
   ],
   "source": [
    "# Filter only 'Skincare' at primary_category \n",
    "skincare_products_df = products_df[products_df['primary_category'].str.lower() == 'skincare'].copy()\n",
    "\n",
    "# Keep only specific secondary categories\n",
    "allowed_secondary_categories = [\n",
    "    'Moisturizers', 'Treatments', 'Eye Care', 'Lip Balms & Treatments',\n",
    "    'Sunscreen', 'Cleansers', 'Masks'\n",
    "]\n",
    "\n",
    "skincare_products_df = skincare_products_df[skincare_products_df['secondary_category'].isin(allowed_secondary_categories)].copy()\n",
    "\n",
    "# Keep only selected tertiary categories\n",
    "allowed_tertiary_categories = [\n",
    "    'Moisturizers', 'Face Serums', 'Eye Creams & Treatments', 'Face Sunscreen',\n",
    "    'Face Wash & Cleansers', 'Face Oils', 'Toners', 'Face Masks', 'Facial Peels',\n",
    "    'Exfoliators', 'Eye Masks', 'Face Wipes', 'Blemish & Acne Treatments',\n",
    "    'Night Creams', 'Mists & Essences', 'Sheet Masks', 'Makeup Removers'\n",
    "]\n",
    "\n",
    "skincare_products_df = skincare_products_df[skincare_products_df['tertiary_category'].isin(allowed_tertiary_categories)].copy()\n",
    "\n",
    "# Save to new CSV file\n",
    "skincare_products_df.to_csv(\"filtered_skincare_products.csv\", index=False)\n",
    "print(\"Filtered dataset saved as 'filtered_skincare_products.csv'\")"
   ]
  },
  {
   "cell_type": "code",
   "execution_count": 13,
   "id": "0b01b020",
   "metadata": {},
   "outputs": [
    {
     "name": "stderr",
     "output_type": "stream",
     "text": [
      "C:\\Users\\Joanne Wong\\AppData\\Local\\Temp\\ipykernel_38720\\2092344167.py:20: DtypeWarning: Columns (1) have mixed types. Specify dtype option on import or set low_memory=False.\n",
      "  reviews_df = pd.read_csv(file)\n",
      "C:\\Users\\Joanne Wong\\AppData\\Local\\Temp\\ipykernel_38720\\2092344167.py:20: DtypeWarning: Columns (1) have mixed types. Specify dtype option on import or set low_memory=False.\n",
      "  reviews_df = pd.read_csv(file)\n",
      "C:\\Users\\Joanne Wong\\AppData\\Local\\Temp\\ipykernel_38720\\2092344167.py:20: DtypeWarning: Columns (1) have mixed types. Specify dtype option on import or set low_memory=False.\n",
      "  reviews_df = pd.read_csv(file)\n"
     ]
    },
    {
     "name": "stdout",
     "output_type": "stream",
     "text": [
      "\n",
      "Final merged file saved as: filtered_skincare_reviews.csv\n",
      "Total reviews: 895583\n"
     ]
    }
   ],
   "source": [
    "# Load filtered skincare products IDs\n",
    "filtered_products = pd.read_csv(\"filtered_skincare_products.csv\")\n",
    "skincare_product_ids = set(filtered_products['product_id'].unique())\n",
    "\n",
    "import glob\n",
    "\n",
    "# List of file paths\n",
    "review_files = [\n",
    "    \"sephora_dataset/reviews_0-250.csv\",\n",
    "    \"sephora_dataset/reviews_250-500.csv\",\n",
    "    \"sephora_dataset/reviews_500-750.csv\",\n",
    "    \"sephora_dataset/reviews_750-1250.csv\",\n",
    "    \"sephora_dataset/reviews_1250-end.csv\"\n",
    "]\n",
    "\n",
    "# Initialize empty list to store filtered reviews\n",
    "all_filtered_reviews = []\n",
    "\n",
    "for file in review_files:\n",
    "    reviews_df = pd.read_csv(file)\n",
    "    \n",
    "    skincare_reviews = reviews_df[reviews_df['product_id'].isin(skincare_product_ids)].copy()\n",
    "    all_filtered_reviews.append(skincare_reviews)\n",
    "\n",
    "# Merge all and save as one new file\n",
    "merged_reviews_df = pd.concat(all_filtered_reviews, ignore_index=True)\n",
    "merged_reviews_df.to_csv(\"filtered_skincare_reviews.csv\", index=False)\n",
    "\n",
    "print(f\"\\nFinal merged file saved as: filtered_skincare_reviews.csv\")\n",
    "print(f\"Total reviews: {len(merged_reviews_df)}\")"
   ]
  }
 ],
 "metadata": {
  "kernelspec": {
   "display_name": "Python 3",
   "language": "python",
   "name": "python3"
  },
  "language_info": {
   "codemirror_mode": {
    "name": "ipython",
    "version": 3
   },
   "file_extension": ".py",
   "mimetype": "text/x-python",
   "name": "python",
   "nbconvert_exporter": "python",
   "pygments_lexer": "ipython3",
   "version": "3.10.4"
  }
 },
 "nbformat": 4,
 "nbformat_minor": 5
}
