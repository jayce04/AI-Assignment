{
 "cells": [
  {
   "cell_type": "markdown",
   "id": "28d6c79b",
   "metadata": {},
   "source": [
    "## Download Dataset from Kaggle"
   ]
  },
  {
   "cell_type": "code",
   "execution_count": null,
   "id": "2d3d7077",
   "metadata": {},
   "outputs": [],
   "source": [
    "import os\n",
    "import zipfile\n",
    "\n",
    "# Download using Kaggle APIs \n",
    "os.system('kaggle datasets download -d nadyinky/sephora-products-and-skincare-reviews')\n",
    "\n",
    "# Unzip the downloaded dataset\n",
    "with zipfile.ZipFile('sephora-products-and-skincare-reviews.zip', 'r') as zip_ref:\n",
    "    zip_ref.extractall('sephora_dataset')"
   ]
  },
  {
   "cell_type": "code",
   "execution_count": null,
   "id": "9583c684",
   "metadata": {},
   "outputs": [
    {
     "name": "stdout",
     "output_type": "stream",
     "text": [
      "  product_id               product_name  brand_id brand_name  loves_count  \\\n",
      "0    P473671    Fragrance Discovery Set      6342      19-69         6320   \n",
      "1    P473668    La Habana Eau de Parfum      6342      19-69         3827   \n",
      "2    P473662  Rainbow Bar Eau de Parfum      6342      19-69         3253   \n",
      "3    P473660       Kasbah Eau de Parfum      6342      19-69         3018   \n",
      "4    P473658  Purple Haze Eau de Parfum      6342      19-69         2691   \n",
      "\n",
      "   rating  reviews            size                      variation_type  \\\n",
      "0  3.6364     11.0             NaN                                 NaN   \n",
      "1  4.1538     13.0  3.4 oz/ 100 mL  Size + Concentration + Formulation   \n",
      "2  4.2500     16.0  3.4 oz/ 100 mL  Size + Concentration + Formulation   \n",
      "3  4.4762     21.0  3.4 oz/ 100 mL  Size + Concentration + Formulation   \n",
      "4  3.2308     13.0  3.4 oz/ 100 mL  Size + Concentration + Formulation   \n",
      "\n",
      "  variation_value  ... online_only out_of_stock  sephora_exclusive  \\\n",
      "0             NaN  ...           1            0                  0   \n",
      "1  3.4 oz/ 100 mL  ...           1            0                  0   \n",
      "2  3.4 oz/ 100 mL  ...           1            0                  0   \n",
      "3  3.4 oz/ 100 mL  ...           1            0                  0   \n",
      "4  3.4 oz/ 100 mL  ...           1            0                  0   \n",
      "\n",
      "                                          highlights  primary_category  \\\n",
      "0  ['Unisex/ Genderless Scent', 'Warm &Spicy Scen...         Fragrance   \n",
      "1  ['Unisex/ Genderless Scent', 'Layerable Scent'...         Fragrance   \n",
      "2  ['Unisex/ Genderless Scent', 'Layerable Scent'...         Fragrance   \n",
      "3  ['Unisex/ Genderless Scent', 'Layerable Scent'...         Fragrance   \n",
      "4  ['Unisex/ Genderless Scent', 'Layerable Scent'...         Fragrance   \n",
      "\n",
      "   secondary_category  tertiary_category  child_count  child_max_price  \\\n",
      "0   Value & Gift Sets  Perfume Gift Sets            0              NaN   \n",
      "1               Women            Perfume            2             85.0   \n",
      "2               Women            Perfume            2             75.0   \n",
      "3               Women            Perfume            2             75.0   \n",
      "4               Women            Perfume            2             75.0   \n",
      "\n",
      "   child_min_price  \n",
      "0              NaN  \n",
      "1             30.0  \n",
      "2             30.0  \n",
      "3             30.0  \n",
      "4             30.0  \n",
      "\n",
      "[5 rows x 27 columns]\n"
     ]
    }
   ],
   "source": [
    "import pandas as pd\n",
    "\n",
    "# Load a CSV \n",
    "products_df = pd.read_csv(\"sephora_dataset/product_info.csv\")\n",
    "print(products_df.head())\n"
   ]
  },
  {
   "cell_type": "markdown",
   "id": "8b017c5b",
   "metadata": {},
   "source": [
    "## Filter Skincare Product only \n",
    "### (remove makeup, fragrance, bath&body, hair, etc products)"
   ]
  },
  {
   "cell_type": "code",
   "execution_count": null,
   "id": "60ae81f3",
   "metadata": {},
   "outputs": [
    {
     "name": "stderr",
     "output_type": "stream",
     "text": [
      "C:\\Users\\Joanne Wong\\AppData\\Local\\Temp\\ipykernel_9592\\4060380969.py:22: DtypeWarning: Columns (1) have mixed types. Specify dtype option on import or set low_memory=False.\n",
      "  df = pd.read_csv(file)\n",
      "C:\\Users\\Joanne Wong\\AppData\\Local\\Temp\\ipykernel_9592\\4060380969.py:22: DtypeWarning: Columns (1) have mixed types. Specify dtype option on import or set low_memory=False.\n",
      "  df = pd.read_csv(file)\n",
      "C:\\Users\\Joanne Wong\\AppData\\Local\\Temp\\ipykernel_9592\\4060380969.py:22: DtypeWarning: Columns (1) have mixed types. Specify dtype option on import or set low_memory=False.\n",
      "  df = pd.read_csv(file)\n"
     ]
    }
   ],
   "source": [
    "# Filter only 'Skincare' category\n",
    "skincare_products_df = products_df[products_df['primary_category'] == \"Skincare\"]\n",
    "\n",
    "# Get all product IDs that belong to \"Skincare\"\n",
    "skincare_product_ids = skincare_products_df['product_id'].unique()\n",
    "\n",
    "import glob\n",
    "\n",
    "# List of file paths\n",
    "review_files = [\n",
    "    \"sephora_dataset/reviews_0-250.csv\",\n",
    "    \"sephora_dataset/reviews_250-500.csv\",\n",
    "    \"sephora_dataset/reviews_500-750.csv\",\n",
    "    \"sephora_dataset/reviews_750-1250.csv\",\n",
    "    \"sephora_dataset/reviews_1250-end.csv\"\n",
    "]\n",
    "\n",
    "# Initialize empty list to store filtered reviews\n",
    "filtered_reviews = []\n",
    "\n",
    "for file in review_files:\n",
    "    df = pd.read_csv(file)\n",
    "    \n",
    "    # Filter reviews where product_id is in the skincare list\n",
    "    df_filtered = df[df['product_id'].isin(skincare_product_ids)]\n",
    "    \n",
    "    filtered_reviews.append(df_filtered)\n",
    "\n",
    "# Combine all filtered reviews into one DataFrame\n",
    "skincare_reviews_df = pd.concat(filtered_reviews, ignore_index=True)\n",
    "\n",
    "# Save results to new CSVs\n",
    "skincare_products_df.to_csv(\"skincare_products.csv\", index=False)\n",
    "skincare_reviews_df.to_csv(\"skincare_reviews.csv\", index=False)"
   ]
  },
  {
   "cell_type": "markdown",
   "id": "535a9142",
   "metadata": {},
   "source": [
    "## Preprocess Data"
   ]
  },
  {
   "cell_type": "code",
   "execution_count": null,
   "id": "a494f984",
   "metadata": {},
   "outputs": [],
   "source": []
  }
 ],
 "metadata": {
  "kernelspec": {
   "display_name": "Python 3",
   "language": "python",
   "name": "python3"
  },
  "language_info": {
   "codemirror_mode": {
    "name": "ipython",
    "version": 3
   },
   "file_extension": ".py",
   "mimetype": "text/x-python",
   "name": "python",
   "nbconvert_exporter": "python",
   "pygments_lexer": "ipython3",
   "version": "3.11.9"
  }
 },
 "nbformat": 4,
 "nbformat_minor": 5
}
